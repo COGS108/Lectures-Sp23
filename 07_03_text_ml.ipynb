{
 "cells": [
  {
   "cell_type": "markdown",
   "metadata": {
    "slideshow": {
     "slide_type": "slide"
    }
   },
   "source": [
    "# Machine Learning in Python\n",
    "\n",
    "- Tools: scikit-learn (`sklearn`)\n",
    "    - Data Partitioning\n",
    "    - Feature selection\n",
    "    - Modeling: SVM\n",
    "    - Model Assessment\n"
   ]
  },
  {
   "cell_type": "markdown",
   "metadata": {
    "slideshow": {
     "slide_type": "notes"
    }
   },
   "source": [
    "For more reading on scikit-learn (`sklearn`) and machine learning in Python: https://scikit-learn.org/stable/index.html"
   ]
  },
  {
   "cell_type": "markdown",
   "metadata": {
    "slideshow": {
     "slide_type": "slide"
    }
   },
   "source": [
    "# Machine Learning: General Steps\n",
    "\n",
    "1. Data Partitioning\n",
    "2. Feature Selection\n",
    "3. Model\n",
    "4. Model Assessment"
   ]
  },
  {
   "cell_type": "markdown",
   "metadata": {
    "slideshow": {
     "slide_type": "slide"
    }
   },
   "source": [
    "## Setup"
   ]
  },
  {
   "cell_type": "code",
   "execution_count": 1,
   "metadata": {
    "slideshow": {
     "slide_type": "-"
    }
   },
   "outputs": [],
   "source": [
    "# import ds/plotting packages\n",
    "import numpy as np\n",
    "import pandas as pd\n",
    "import matplotlib.pyplot as plt\n",
    "import seaborn as sns\n",
    "\n",
    "%matplotlib inline\n",
    "\n",
    "# Import nltk package \n",
    "import nltk\n",
    "from nltk.tokenize import word_tokenize\n",
    "from nltk.corpus import stopwords\n",
    "\n",
    "# import random for randomizing\n",
    "import random\n",
    "\n",
    "# ignore warnings\n",
    "import warnings\n",
    "warnings.filterwarnings('ignore')\n",
    "\n",
    "# scikit-learn imports\n",
    "from sklearn.svm import SVC\n",
    "from sklearn.feature_extraction.text import TfidfVectorizer\n",
    "from sklearn.metrics import classification_report, precision_recall_fscore_support, confusion_matrix, ConfusionMatrixDisplay"
   ]
  },
  {
   "cell_type": "code",
   "execution_count": 2,
   "metadata": {
    "slideshow": {
     "slide_type": "fragment"
    }
   },
   "outputs": [],
   "source": [
    "# Uncomment if you need to download the NLTK English tokenizer and the stopwords of all languages\n",
    "# nltk.download('punkt')\n",
    "# nltk.download('stopwords')"
   ]
  },
  {
   "cell_type": "markdown",
   "metadata": {
    "slideshow": {
     "slide_type": "slide"
    }
   },
   "source": [
    "# Example: Class Responses"
   ]
  },
  {
   "cell_type": "markdown",
   "metadata": {
    "slideshow": {
     "slide_type": "slide"
    }
   },
   "source": [
    "## Data"
   ]
  },
  {
   "cell_type": "markdown",
   "metadata": {
    "slideshow": {
     "slide_type": "-"
    }
   },
   "source": [
    "Student responses on COGS 108 Mid-course survey to the following two questions: \n",
    "\n",
    "- What have you enjoyed MOST about COGS 108 so far? Please explain.\n",
    "- What have you enjoyed LEAST about COGS 108 so far? Please explain."
   ]
  },
  {
   "cell_type": "code",
   "execution_count": 3,
   "metadata": {
    "slideshow": {
     "slide_type": "fragment"
    }
   },
   "outputs": [
    {
     "data": {
      "text/html": [
       "<div>\n",
       "<style scoped>\n",
       "    .dataframe tbody tr th:only-of-type {\n",
       "        vertical-align: middle;\n",
       "    }\n",
       "\n",
       "    .dataframe tbody tr th {\n",
       "        vertical-align: top;\n",
       "    }\n",
       "\n",
       "    .dataframe thead th {\n",
       "        text-align: right;\n",
       "    }\n",
       "</style>\n",
       "<table border=\"1\" class=\"dataframe\">\n",
       "  <thead>\n",
       "    <tr style=\"text-align: right;\">\n",
       "      <th></th>\n",
       "      <th>response</th>\n",
       "      <th>most_least</th>\n",
       "      <th>quarter</th>\n",
       "    </tr>\n",
       "  </thead>\n",
       "  <tbody>\n",
       "    <tr>\n",
       "      <th>3454</th>\n",
       "      <td>I can't say that there's bad about this course.</td>\n",
       "      <td>0</td>\n",
       "      <td>sp21</td>\n",
       "    </tr>\n",
       "    <tr>\n",
       "      <th>3455</th>\n",
       "      <td>Aside from the lecture time, which can't be he...</td>\n",
       "      <td>0</td>\n",
       "      <td>sp21</td>\n",
       "    </tr>\n",
       "    <tr>\n",
       "      <th>3456</th>\n",
       "      <td>I don't think this is really an issue at all, ...</td>\n",
       "      <td>0</td>\n",
       "      <td>sp21</td>\n",
       "    </tr>\n",
       "    <tr>\n",
       "      <th>3457</th>\n",
       "      <td>Nothing in particular</td>\n",
       "      <td>0</td>\n",
       "      <td>sp21</td>\n",
       "    </tr>\n",
       "    <tr>\n",
       "      <th>3458</th>\n",
       "      <td>It has been hard making it to lectures in the ...</td>\n",
       "      <td>0</td>\n",
       "      <td>sp21</td>\n",
       "    </tr>\n",
       "  </tbody>\n",
       "</table>\n",
       "</div>"
      ],
      "text/plain": [
       "                                               response  most_least quarter\n",
       "3454    I can't say that there's bad about this course.           0    sp21\n",
       "3455  Aside from the lecture time, which can't be he...           0    sp21\n",
       "3456  I don't think this is really an issue at all, ...           0    sp21\n",
       "3457                              Nothing in particular           0    sp21\n",
       "3458  It has been hard making it to lectures in the ...           0    sp21"
      ]
     },
     "execution_count": 3,
     "metadata": {},
     "output_type": "execute_result"
    }
   ],
   "source": [
    "# read data in\n",
    "# 1 = most; 0 = least\n",
    "df = pd.read_csv('https://raw.githubusercontent.com/shanellis/datasets/master/COGS108_ml.csv', encoding=\"ISO-8859-1\")\n",
    "df.tail()"
   ]
  },
  {
   "cell_type": "code",
   "execution_count": 4,
   "metadata": {
    "slideshow": {
     "slide_type": "-"
    }
   },
   "outputs": [
    {
     "data": {
      "text/html": [
       "<div>\n",
       "<style scoped>\n",
       "    .dataframe tbody tr th:only-of-type {\n",
       "        vertical-align: middle;\n",
       "    }\n",
       "\n",
       "    .dataframe tbody tr th {\n",
       "        vertical-align: top;\n",
       "    }\n",
       "\n",
       "    .dataframe thead th {\n",
       "        text-align: right;\n",
       "    }\n",
       "</style>\n",
       "<table border=\"1\" class=\"dataframe\">\n",
       "  <thead>\n",
       "    <tr style=\"text-align: right;\">\n",
       "      <th></th>\n",
       "      <th>response</th>\n",
       "      <th>most_least</th>\n",
       "      <th>quarter</th>\n",
       "    </tr>\n",
       "  </thead>\n",
       "  <tbody>\n",
       "    <tr>\n",
       "      <th>0</th>\n",
       "      <td>I don't understand some basic aspects of pushi...</td>\n",
       "      <td>0</td>\n",
       "      <td>fa20</td>\n",
       "    </tr>\n",
       "    <tr>\n",
       "      <th>1</th>\n",
       "      <td>Working with my group has been a little frustr...</td>\n",
       "      <td>0</td>\n",
       "      <td>wi21</td>\n",
       "    </tr>\n",
       "    <tr>\n",
       "      <th>2</th>\n",
       "      <td>The consistent amount of assignments</td>\n",
       "      <td>0</td>\n",
       "      <td>wi21</td>\n",
       "    </tr>\n",
       "    <tr>\n",
       "      <th>3</th>\n",
       "      <td>The lectures are honestly super interesting an...</td>\n",
       "      <td>1</td>\n",
       "      <td>sp19</td>\n",
       "    </tr>\n",
       "    <tr>\n",
       "      <th>4</th>\n",
       "      <td>Self-paced lectures</td>\n",
       "      <td>1</td>\n",
       "      <td>fa20</td>\n",
       "    </tr>\n",
       "  </tbody>\n",
       "</table>\n",
       "</div>"
      ],
      "text/plain": [
       "                                            response  most_least quarter\n",
       "0  I don't understand some basic aspects of pushi...           0    fa20\n",
       "1  Working with my group has been a little frustr...           0    wi21\n",
       "2               The consistent amount of assignments           0    wi21\n",
       "3  The lectures are honestly super interesting an...           1    sp19\n",
       "4                                Self-paced lectures           1    fa20"
      ]
     },
     "execution_count": 4,
     "metadata": {},
     "output_type": "execute_result"
    }
   ],
   "source": [
    "# randomly sort data frame\n",
    "df = df.sample(frac=1, random_state=200).reset_index(drop=True)\n",
    "df.head()"
   ]
  },
  {
   "cell_type": "markdown",
   "metadata": {
    "slideshow": {
     "slide_type": "fragment"
    }
   },
   "source": [
    "Randomly sorted data frame:\n",
    "- for selection of training and test set\n",
    "- will be approximately balanced between outcomes in each"
   ]
  },
  {
   "cell_type": "code",
   "execution_count": 5,
   "metadata": {
    "slideshow": {
     "slide_type": "fragment"
    }
   },
   "outputs": [
    {
     "data": {
      "text/plain": [
       "(3459, 3)"
      ]
     },
     "execution_count": 5,
     "metadata": {},
     "output_type": "execute_result"
    }
   ],
   "source": [
    "# see how much data we're working with\n",
    "df.shape"
   ]
  },
  {
   "cell_type": "code",
   "execution_count": 13,
   "metadata": {},
   "outputs": [
    {
     "data": {
      "text/plain": [
       "quarter\n",
       "fa20    551\n",
       "sp19    631\n",
       "sp20    705\n",
       "sp21    466\n",
       "wi20    491\n",
       "wi21    615\n",
       "Name: response, dtype: int64"
      ]
     },
     "execution_count": 13,
     "metadata": {},
     "output_type": "execute_result"
    }
   ],
   "source": [
    "df.groupby('quarter')['response'].count()"
   ]
  },
  {
   "cell_type": "code",
   "execution_count": 16,
   "metadata": {},
   "outputs": [
    {
     "data": {
      "text/plain": [
       "0.20381613183000868"
      ]
     },
     "execution_count": 16,
     "metadata": {},
     "output_type": "execute_result"
    }
   ],
   "source": [
    "705/3459"
   ]
  },
  {
   "cell_type": "markdown",
   "metadata": {
    "slideshow": {
     "slide_type": "slide"
    }
   },
   "source": [
    "### Train,  Validate, Test\n",
    "\n",
    "- Training set is what we use for creating the model\n",
    "- Validation set is what we use for fine tuning the model -- checking which hyper-parameters are best\n",
    "- Test set is what we use to figure out how good the model will do next year with new data arriving\n",
    "\n",
    "#### Method (1) - Manual split, split by quarter\n",
    "\n",
    "- We'll test the model on one quarter's responses\n",
    "- We'll validate the model on another quarter's responses\n",
    "- We'll train the model on everything else\n",
    "\n"
   ]
  },
  {
   "cell_type": "code",
   "execution_count": 20,
   "metadata": {
    "slideshow": {
     "slide_type": "fragment"
    }
   },
   "outputs": [],
   "source": [
    "\n",
    "\n",
    "## Validation\n",
    "df_validation = df[df['quarter']=='sp20']\n",
    "              \n",
    "## Test\n",
    "df_test = df[df['quarter']=='sp19']\n",
    "\n",
    "## Train\n",
    "df_train = df[~df['quarter'].isin(['sp19','sp20'])]\n"
   ]
  },
  {
   "cell_type": "code",
   "execution_count": 21,
   "metadata": {
    "slideshow": {
     "slide_type": "fragment"
    }
   },
   "outputs": [
    {
     "name": "stdout",
     "output_type": "stream",
     "text": [
      "(2123, 3) (705, 3) (631, 3)\n"
     ]
    }
   ],
   "source": [
    "print(df_train.shape, df_validation.shape, df_test.shape)"
   ]
  },
  {
   "cell_type": "markdown",
   "metadata": {
    "slideshow": {
     "slide_type": "-"
    }
   },
   "source": []
  },
  {
   "cell_type": "markdown",
   "metadata": {
    "slideshow": {
     "slide_type": "slide"
    }
   },
   "source": [
    "#### Clicker Question #1\n",
    "\n",
    "How well do you think we will be able to predict whether a student comment is a response to what they liked most vs what they liked least in our ***training*** dataset?\n",
    "\n",
    "- A) Accuracy ~0%\n",
    "- B) Accuracy ~25%\n",
    "- C) Accuracy ~50%\n",
    "- D) Accuracy ~75%\n",
    "- E) Accuracy ~100%"
   ]
  },
  {
   "cell_type": "markdown",
   "metadata": {
    "slideshow": {
     "slide_type": "slide"
    }
   },
   "source": [
    "#### Clicker Question #2\n",
    "\n",
    "How well do you think we will be able to predict whether a student comment is a response to what they liked most vs what they liked least in our ***validation*** dataset?\n",
    "\n",
    "- A) Accuracy ~0%\n",
    "- B) Accuracy ~25%\n",
    "- C) Accuracy ~50%\n",
    "- D) Accuracy ~75%\n",
    "- E) Accuracy ~100%"
   ]
  },
  {
   "cell_type": "markdown",
   "metadata": {},
   "source": [
    "#### Thinking this through\n",
    "\n",
    "Is this a good idea to split up by quarter?  What could happen here?"
   ]
  },
  {
   "cell_type": "markdown",
   "metadata": {},
   "source": [
    "#### Method (2) - sklearn split, randomize the data\n",
    "- Training set 60% of the data randomly mixed across quarters\n",
    "- Validation set 20% of the data randomly mixed across quarters\n",
    "- Test set 20% of the data randomly mixed across quarters"
   ]
  },
  {
   "cell_type": "code",
   "execution_count": 28,
   "metadata": {},
   "outputs": [
    {
     "name": "stdout",
     "output_type": "stream",
     "text": [
      "(2075,) (692,) (692,)\n"
     ]
    }
   ],
   "source": [
    "from sklearn.model_selection import train_test_split\n",
    "\n",
    "X_trainvalid, X_test, Y_trainvalid, Y_test = train_test_split(\n",
    "    df['response'], df['most_least'], test_size=0.2, random_state=42)\n",
    "\n",
    "X_train, X_valid, Y_train, Y_valid = train_test_split(\n",
    "    X_trainvalid, Y_trainvalid, test_size=0.25\n",
    "\n",
    ")\n",
    "\n",
    "print(X_train.shape, X_valid.shape, X_test.shape)"
   ]
  },
  {
   "cell_type": "markdown",
   "metadata": {
    "slideshow": {
     "slide_type": "slide"
    }
   },
   "source": [
    "## Prediction Task: \n",
    "\n",
    "**Classify text from students as 'most liked' or 'least liked'**"
   ]
  },
  {
   "cell_type": "markdown",
   "metadata": {
    "slideshow": {
     "slide_type": "-"
    }
   },
   "source": [
    "#### 11 Steps to Prediction:\n",
    "\n",
    "1. Specify parameters for TF-IDF calculation\n",
    "2. Calculate TF-IDF from text input (predictors)\n",
    "3. Extract most or least (outcome)\n",
    "4. Specify how data will be partitioned\n",
    "5. Partition the data\n",
    "6. Train model\n",
    "7. Predict in training\n",
    "8. Predict in testing\n",
    "9. Assess accuracy in training\n",
    "10. Assess accuracy in test set\n",
    "11. IF NEEDED: Model selection + test process that replaces steps 6-10 "
   ]
  },
  {
   "cell_type": "markdown",
   "metadata": {
    "slideshow": {
     "slide_type": "slide"
    }
   },
   "source": [
    "### Data Processing"
   ]
  },
  {
   "cell_type": "markdown",
   "metadata": {
    "slideshow": {
     "slide_type": "fragment"
    }
   },
   "source": [
    "Step 1: Determine how you'll convert a collection of raw documents to a matrix of TF-IDF features."
   ]
  },
  {
   "cell_type": "code",
   "execution_count": 29,
   "metadata": {
    "slideshow": {
     "slide_type": "fragment"
    }
   },
   "outputs": [],
   "source": [
    "# Create vectorizer & specify parameters\n",
    "tfidf = TfidfVectorizer(sublinear_tf=True, #apply sublinear TF scaling\n",
    "                        analyzer='word',   #specify tokenizer\n",
    "                        max_features=500, # specify max # of features to include\n",
    "                        tokenizer=word_tokenize)"
   ]
  },
  {
   "cell_type": "markdown",
   "metadata": {
    "slideshow": {
     "slide_type": "notes"
    }
   },
   "source": [
    "* sublinear TF scaling - replaces term frequency (TF) with $1 + log(TF)$"
   ]
  },
  {
   "cell_type": "markdown",
   "metadata": {
    "slideshow": {
     "slide_type": "fragment"
    }
   },
   "source": [
    "Step 2: Generate matrix of TF-IDF features."
   ]
  },
  {
   "cell_type": "code",
   "execution_count": 30,
   "metadata": {
    "slideshow": {
     "slide_type": "fragment"
    }
   },
   "outputs": [
    {
     "name": "stdout",
     "output_type": "stream",
     "text": [
      "(2075, 500)\n",
      "min:  0.0 \n",
      " mean:  0.00691392746045586 \n",
      " max:  1.0\n"
     ]
    }
   ],
   "source": [
    "# Learn vocabulary and idf, return term-document matrix.\n",
    "# return an array;our predictor\n",
    "tfidf_X = tfidf.fit_transform(X_train).toarray()\n",
    "\n",
    "# take a look at the output\n",
    "print(tfidf_X.shape)\n",
    "\n",
    "print(\"min: \" , np.min(tfidf_X), '\\n',\n",
    "      \"mean: \", np.mean(tfidf_X), '\\n',\n",
    "      \"max: \",  np.max(tfidf_X))"
   ]
  },
  {
   "cell_type": "code",
   "execution_count": 31,
   "metadata": {},
   "outputs": [
    {
     "data": {
      "text/plain": [
       "array([[0., 0., 0., ..., 0., 0., 0.],\n",
       "       [0., 0., 0., ..., 0., 0., 0.],\n",
       "       [0., 0., 0., ..., 0., 0., 0.],\n",
       "       ...,\n",
       "       [0., 0., 0., ..., 0., 0., 0.],\n",
       "       [0., 0., 0., ..., 0., 0., 0.],\n",
       "       [0., 0., 0., ..., 0., 0., 0.]])"
      ]
     },
     "execution_count": 31,
     "metadata": {},
     "output_type": "execute_result"
    }
   ],
   "source": [
    "tfidf_X"
   ]
  },
  {
   "cell_type": "code",
   "execution_count": 32,
   "metadata": {
    "slideshow": {
     "slide_type": "fragment"
    }
   },
   "outputs": [
    {
     "data": {
      "text/html": [
       "<div>\n",
       "<style scoped>\n",
       "    .dataframe tbody tr th:only-of-type {\n",
       "        vertical-align: middle;\n",
       "    }\n",
       "\n",
       "    .dataframe tbody tr th {\n",
       "        vertical-align: top;\n",
       "    }\n",
       "\n",
       "    .dataframe thead th {\n",
       "        text-align: right;\n",
       "    }\n",
       "</style>\n",
       "<table border=\"1\" class=\"dataframe\">\n",
       "  <thead>\n",
       "    <tr style=\"text-align: right;\">\n",
       "      <th></th>\n",
       "      <th>token</th>\n",
       "      <th>weight</th>\n",
       "    </tr>\n",
       "  </thead>\n",
       "  <tbody>\n",
       "    <tr>\n",
       "      <th>240</th>\n",
       "      <td>it</td>\n",
       "      <td>6.440974</td>\n",
       "    </tr>\n",
       "    <tr>\n",
       "      <th>195</th>\n",
       "      <td>good</td>\n",
       "      <td>6.335613</td>\n",
       "    </tr>\n",
       "    <tr>\n",
       "      <th>268</th>\n",
       "      <td>longer</td>\n",
       "      <td>6.335613</td>\n",
       "    </tr>\n",
       "    <tr>\n",
       "      <th>64</th>\n",
       "      <td>based</td>\n",
       "      <td>6.335613</td>\n",
       "    </tr>\n",
       "    <tr>\n",
       "      <th>417</th>\n",
       "      <td>teaching</td>\n",
       "      <td>6.335613</td>\n",
       "    </tr>\n",
       "  </tbody>\n",
       "</table>\n",
       "</div>"
      ],
      "text/plain": [
       "        token    weight\n",
       "240        it  6.440974\n",
       "195      good  6.335613\n",
       "268    longer  6.335613\n",
       "64      based  6.335613\n",
       "417  teaching  6.335613"
      ]
     },
     "execution_count": 32,
     "metadata": {},
     "output_type": "execute_result"
    }
   ],
   "source": [
    "## get IDF to visualize\n",
    "idf = tfidf.idf_\n",
    "rr = dict(zip(tfidf.fit(df_traintest['response']).get_feature_names(), idf))\n",
    "\n",
    "token_weight = pd.DataFrame.from_dict(rr, orient='index').reset_index()\n",
    "token_weight.columns=('token','weight')\n",
    "token_weight = token_weight.sort_values(by='weight', ascending=False)\n",
    "token_weight.head() "
   ]
  },
  {
   "cell_type": "code",
   "execution_count": 33,
   "metadata": {
    "slideshow": {
     "slide_type": "fragment"
    }
   },
   "outputs": [
    {
     "data": {
      "image/png": "[encoded data removed]",
      "text/plain": [
       "<Figure size 1500x500 with 1 Axes>"
      ]
     },
     "metadata": {},
     "output_type": "display_data"
    }
   ],
   "source": [
    "sns.barplot(x='token', \n",
    "            y='weight', \n",
    "            data=token_weight[0:10], \n",
    "            color=\"gray\")            \n",
    "plt.title(\"Inverse Document Frequency(IDF) per token\")\n",
    "fig = plt.gcf()\n",
    "fig.set_size_inches(15,5);"
   ]
  },
  {
   "cell_type": "markdown",
   "metadata": {
    "slideshow": {
     "slide_type": "fragment"
    }
   },
   "source": [
    "Step 3: Extract outcome variable"
   ]
  },
  {
   "cell_type": "code",
   "execution_count": 35,
   "metadata": {
    "slideshow": {
     "slide_type": "fragment"
    }
   },
   "outputs": [
    {
     "data": {
      "text/plain": [
       "array([0, 0, 1, ..., 0, 1, 1])"
      ]
     },
     "execution_count": 35,
     "metadata": {},
     "output_type": "execute_result"
    }
   ],
   "source": [
    "# specify outcome variable\n",
    "tfidf_Y = np.array(Y_train)\n",
    "tfidf_Y"
   ]
  },
  {
   "cell_type": "code",
   "execution_count": 36,
   "metadata": {},
   "outputs": [
    {
     "data": {
      "text/plain": [
       "array([[0., 0., 0., ..., 0., 0., 0.],\n",
       "       [0., 0., 0., ..., 0., 0., 0.],\n",
       "       [0., 0., 0., ..., 0., 0., 0.],\n",
       "       ...,\n",
       "       [0., 0., 0., ..., 0., 0., 0.],\n",
       "       [0., 0., 0., ..., 0., 0., 0.],\n",
       "       [0., 0., 0., ..., 0., 0., 0.]])"
      ]
     },
     "execution_count": 36,
     "metadata": {},
     "output_type": "execute_result"
    }
   ],
   "source": [
    "tfidf_X"
   ]
  },
  {
   "cell_type": "code",
   "execution_count": 37,
   "metadata": {},
   "outputs": [
    {
     "data": {
      "text/plain": [
       "((2075, 500), (2075,))"
      ]
     },
     "execution_count": 37,
     "metadata": {},
     "output_type": "execute_result"
    }
   ],
   "source": [
    "tfidf_X.shape, tfidf_Y.shape"
   ]
  },
  {
   "cell_type": "markdown",
   "metadata": {
    "slideshow": {
     "slide_type": "fragment"
    }
   },
   "source": [
    "#### Clicker Question #3\n",
    "\n",
    "Looking at the code above and thinking about what we've done so far in this analysis, what is stored in `tfidf_Y`?\n",
    "\n",
    "- A) predictor variable - training data\n",
    "- B) outcome variable - training data\n",
    "- C) predictor variable - test data\n",
    "- D) outcome variable - test data\n",
    "- E) validation DataFrame"
   ]
  },
  {
   "cell_type": "markdown",
   "metadata": {
    "slideshow": {
     "slide_type": "slide"
    }
   },
   "source": [
    "# Avoiding data leakage with feature selection\n",
    "\n",
    "NEVER do feature selection or feature transformation fitting on ALL of the data.\n",
    "\n",
    "You don't want information about your validation and test set inside your training set.\n",
    "\n",
    "If you fit your features on the whole dataset you have implictly told the training set information about the vocuabulary and frequency of things that aren't in the training set! BAD!"
   ]
  },
  {
   "cell_type": "code",
   "execution_count": 41,
   "metadata": {},
   "outputs": [],
   "source": [
    "tfidf_train = tfidf.fit_transform(X_train)\n",
    "tfidf_valid = tfidf.transform(X_valid)\n",
    "tfidf_test = tfidf.transform(X_test)"
   ]
  },
  {
   "cell_type": "code",
   "execution_count": 42,
   "metadata": {},
   "outputs": [
    {
     "data": {
      "text/plain": [
       "((2075, 500), (692, 500), (692, 500))"
      ]
     },
     "execution_count": 42,
     "metadata": {},
     "output_type": "execute_result"
    }
   ],
   "source": [
    "tfidf_train.shape, tfidf_valid.shape, tfidf_test.shape"
   ]
  },
  {
   "cell_type": "markdown",
   "metadata": {
    "slideshow": {
     "slide_type": "slide"
    }
   },
   "source": [
    "## Model"
   ]
  },
  {
   "cell_type": "markdown",
   "metadata": {
    "slideshow": {
     "slide_type": "fragment"
    }
   },
   "source": [
    "### SVM: Support Vector Machines\n",
    "\n",
    "- simple & interpretable machine learning model\n",
    "- based in linear regression\n",
    "- classification task\n",
    "- supervized\n",
    "    - input: labeled training data\n",
    "    - model determines hyperplane that best discriminates between categories"
   ]
  },
  {
   "cell_type": "markdown",
   "metadata": {
    "slideshow": {
     "slide_type": "slide"
    }
   },
   "source": [
    "### SVM: Tuning Parameters\n",
    "- **regularization** parameter\n",
    "    - can determine how this line is drawn\n",
    "    - can increase accuracy of prediction\n",
    "    - can lead to overfitting of the data\n",
    "- **kernel** parameter\n",
    "    - specifies how to model & transform data\n",
    "    "
   ]
  },
  {
   "cell_type": "markdown",
   "metadata": {
    "slideshow": {
     "slide_type": "notes"
    }
   },
   "source": [
    "For more reading on SVMs using `sklearn`: https://scikit-learn.org/stable/modules/svm.html"
   ]
  },
  {
   "cell_type": "markdown",
   "metadata": {
    "slideshow": {
     "slide_type": "slide"
    }
   },
   "source": [
    "### Model Generation\n",
    "    "
   ]
  },
  {
   "cell_type": "markdown",
   "metadata": {
    "slideshow": {
     "slide_type": "fragment"
    }
   },
   "source": [
    "Step 6: Generate and train the model."
   ]
  },
  {
   "cell_type": "code",
   "execution_count": 79,
   "metadata": {
    "slideshow": {
     "slide_type": "fragment"
    }
   },
   "outputs": [],
   "source": [
    "# uncomment to read documentation for model\n",
    "SVC?"
   ]
  },
  {
   "cell_type": "code",
   "execution_count": 80,
   "metadata": {
    "slideshow": {
     "slide_type": "fragment"
    }
   },
   "outputs": [
    {
     "data": {
      "text/plain": [
       "sklearn.svm._classes.SVC"
      ]
     },
     "execution_count": 80,
     "metadata": {},
     "output_type": "execute_result"
    }
   ],
   "source": [
    "# function we'll use to run the model\n",
    "\n",
    "svm_model = SVC(kernel='linear')\n",
    "type(svm_model)"
   ]
  },
  {
   "cell_type": "code",
   "execution_count": 81,
   "metadata": {
    "slideshow": {
     "slide_type": "fragment"
    }
   },
   "outputs": [],
   "source": [
    "# train model\n",
    "svm_model = svm_model.fit(tfidf_train, Y_train)\n"
   ]
  },
  {
   "cell_type": "code",
   "execution_count": 82,
   "metadata": {},
   "outputs": [
    {
     "data": {
      "text/plain": [
       "matrix([[ 0.67207611,  0.10144544, -0.33350075, -0.22254058, -0.68516746,\n",
       "          0.35076476,  0.35509196, -0.0655237 , -1.13980255,  0.30191162,\n",
       "          0.06643783, -0.05073229,  0.31628026, -1.10986941, -0.34299984,\n",
       "          0.28069325,  0.1232623 , -0.04165024, -1.61710732, -0.96799392,\n",
       "         -0.66598943,  0.6067742 , -0.33350075, -0.23311461,  0.17201411,\n",
       "          0.2390977 ,  0.19062237,  1.04215154, -0.03879996,  0.07926778,\n",
       "          0.99077632, -0.94054645,  1.64851649, -0.3609535 , -0.28964277,\n",
       "         -0.32198959, -0.89522658, -0.17622154,  0.3184162 ,  0.53465099,\n",
       "          2.13618382,  0.22743231, -0.49812202,  0.37276   , -0.65482511,\n",
       "          0.90637622,  0.92465451,  0.33399231, -0.15642343,  0.01363187,\n",
       "          1.09129796, -0.22409149,  0.34688295,  0.00877279, -1.16282643,\n",
       "          0.7601692 ,  0.61786261, -0.69929354, -0.47395215, -0.41286439,\n",
       "          0.36825804,  0.18900121,  1.09778724,  0.86053131,  0.33798966,\n",
       "          0.59150546, -1.95398379, -0.87480158, -0.54172756,  0.36966621,\n",
       "          0.72836585, -0.11125667,  0.33224466, -0.28625638, -0.92677891,\n",
       "          0.31101922, -2.23390694,  0.47157014, -1.27484999, -0.03218999,\n",
       "          0.05547871,  1.5343372 , -0.70687463,  0.3342302 , -0.25286662,\n",
       "          0.47729386,  0.72573086,  1.14465196,  1.08201795,  0.73070163,\n",
       "         -0.2495069 ,  0.53692022, -0.68975282, -0.6491317 ,  0.10818895,\n",
       "         -0.1309789 ,  0.6333838 ,  0.8054764 ,  0.76058548, -0.47511079,\n",
       "         -1.00031291,  0.40202084,  1.47959641,  0.09220551,  0.19944543,\n",
       "         -0.23722529, -0.00854394, -0.14913494, -0.15441328,  1.92188758,\n",
       "          0.60109235,  0.67098242, -0.16064985, -0.63374681, -0.10924456,\n",
       "          0.37841674,  0.37424987, -1.68666319,  0.16845274,  0.50020652,\n",
       "         -1.30255304, -1.11196984,  0.06477829,  0.31604854, -0.04175954,\n",
       "         -0.56843501, -0.54074728, -0.38578196, -0.88332342,  0.25330796,\n",
       "          0.3676915 ,  1.17480378,  0.25815394,  0.18227008,  0.18661864,\n",
       "          2.13488984,  0.68934017,  2.80268067, -0.8177774 , -0.6727391 ,\n",
       "         -0.236437  ,  0.15632389, -0.05386604, -0.14301032, -0.66467152,\n",
       "         -0.19368979,  0.26448614,  0.47877918, -0.66363056,  0.37979243,\n",
       "         -0.42701146,  0.15478614, -0.25650429,  0.495484  , -0.58481169,\n",
       "         -1.16556054,  0.21923289, -0.16148669, -1.61738503,  0.32128255,\n",
       "          0.05851234, -0.382512  , -0.8437256 , -0.14648057, -0.67395376,\n",
       "         -0.93102705, -0.25071721,  0.63649359,  1.38925797, -0.23668805,\n",
       "          0.29305158, -0.66329287, -0.33351184,  0.79843784,  0.60305533,\n",
       "          0.47343334,  0.72280123, -0.74881667, -1.14745399,  1.88423381,\n",
       "          0.44047876,  0.16069291, -0.35068094, -0.14697213,  0.93342219,\n",
       "         -0.47959835,  0.14840243,  0.27251352,  0.81741602,  0.00767247,\n",
       "         -0.87322262,  0.03497908, -0.56615031,  0.62591717, -0.34827914,\n",
       "         -0.22022207, -0.86461763, -0.10720397,  0.49390419,  0.32480253,\n",
       "         -0.46181538, -0.60618617,  0.14869392, -0.90763056, -0.23619652,\n",
       "          1.43793558,  0.45867519, -2.3992631 , -0.51112128, -0.71670141,\n",
       "          0.26831843,  0.58672264,  0.92023644,  1.12134524,  1.43093774,\n",
       "          0.73072243, -0.66353797, -0.79179311, -0.54759292,  1.60697819,\n",
       "         -1.28874083,  0.15135009,  0.01048012,  0.23868974,  0.76846358,\n",
       "         -1.72823496,  0.05234856,  0.31440675, -0.19508995,  0.33345926,\n",
       "          0.34905778, -0.30023828,  0.36918941,  0.47240906,  1.00389957,\n",
       "          2.45134774,  0.29314227, -1.15249747,  0.13590474, -0.09432963,\n",
       "          0.17004308, -0.8157273 , -0.41495058,  0.7341376 , -1.59675827,\n",
       "         -0.34169523, -0.82226131, -0.81568556,  0.6971515 ,  0.1891111 ,\n",
       "         -0.27475915, -1.78100811, -0.72838736,  0.30492548, -0.69580873,\n",
       "          1.86666726,  1.05675426,  2.49607358, -2.47926345,  0.40414491,\n",
       "          1.15293196, -0.315338  ,  0.91206364,  0.82941955,  0.96759465,\n",
       "         -0.12521939, -2.07868762, -0.39654269, -0.09053911, -0.37477919,\n",
       "          0.83730309, -0.47683313,  0.0764161 ,  1.76956684, -0.18865155,\n",
       "         -0.5997127 ,  0.34480557,  0.82996169,  0.28488217,  0.03414502,\n",
       "          0.76694282,  0.11404892, -0.06655625, -0.54564215,  1.3017966 ,\n",
       "         -0.08768665,  0.13117445,  0.0605351 ,  0.26809108, -0.37499809,\n",
       "         -0.71502602, -0.50887283,  1.14505567, -1.14547149, -0.75508918,\n",
       "          0.27986643,  0.02284174, -3.32731333, -0.45468582, -0.3938562 ,\n",
       "          0.58513603,  1.44639278, -0.67366625, -1.97401107,  1.15298168,\n",
       "          0.73103243, -0.80081483, -1.70384612, -0.77299468, -0.51975892,\n",
       "         -0.20070511, -0.050304  , -0.26335369, -0.21299792, -0.98767713,\n",
       "         -0.51841392, -0.49422448, -0.62040957,  0.6455011 , -0.56676701,\n",
       "          0.17183773,  0.09459017,  0.23658095,  0.53739712,  1.52566412,\n",
       "         -0.1096802 ,  0.15834849,  0.6716266 , -0.19716097, -0.84036706,\n",
       "         -0.52911875, -0.55247982,  0.02495737, -0.68190355,  1.38260937,\n",
       "          0.69520473, -0.5700231 , -0.10198979, -1.63147838, -0.90328852,\n",
       "          0.46604644, -0.20027788,  1.31464523,  0.8672377 , -0.84711111,\n",
       "         -0.71128792, -1.08155537, -0.17972597,  1.25262234,  0.25156801,\n",
       "          0.24326055, -0.08860049,  0.00661149, -1.50376639, -1.802655  ,\n",
       "          0.01263354,  0.29264602,  0.98518662,  0.37622637,  0.73481902,\n",
       "         -0.612727  , -0.35430871, -0.71180463, -0.2615873 ,  0.63249174,\n",
       "         -0.11052939,  0.28853109, -0.35222045, -0.06874498,  1.82074934,\n",
       "          0.01364104, -0.12882935, -0.40989869,  0.51001382,  0.83842936,\n",
       "         -0.68683007, -1.02215378,  0.38645021,  0.75761887,  0.56741345,\n",
       "         -0.00644972,  0.46685697,  0.24433065, -0.10176906,  0.46877962,\n",
       "         -0.03041148, -0.37214598, -1.61372712, -0.51035543,  0.09385104,\n",
       "         -2.66590256, -0.12724937, -0.07813922, -1.16158245, -0.92302733,\n",
       "          0.97114588,  0.60003705,  0.9062641 , -1.10235129, -0.72226136,\n",
       "         -0.25907098,  0.539504  ,  0.3892005 , -1.19361594,  0.5558403 ,\n",
       "         -0.29610644, -2.08468688, -0.011822  , -0.24683184,  0.0176805 ,\n",
       "         -0.28973855,  0.26950081,  0.43107755,  0.12167769, -0.29477737,\n",
       "         -0.5727074 , -0.19533737, -0.91635699,  0.63896462, -0.06115743,\n",
       "         -0.0240812 ,  0.07302839,  1.34941241, -0.04683821, -0.13900378,\n",
       "          0.57072788, -1.9170434 ,  0.27463662, -0.16553115, -0.51036963,\n",
       "         -0.61241381, -0.40036128,  0.1499755 , -0.30336644,  0.62656433,\n",
       "         -0.58024135,  0.72675324,  0.39943317, -1.3594234 , -1.28233992,\n",
       "         -0.35237261,  0.26620867, -0.80782574,  0.63770133,  0.50798283,\n",
       "          0.54797206,  0.7823245 ,  0.27197303, -0.18009423, -0.05555261,\n",
       "         -0.94293823, -0.31967646, -0.07072053, -0.02275264, -0.84690707,\n",
       "          0.72737985,  0.3146052 ,  0.6067635 ,  1.62127868,  0.68382443,\n",
       "         -1.23686848,  0.88795471,  0.28093228,  1.48901702,  1.02330331,\n",
       "          0.91925725, -0.49371074,  0.57027285, -0.35249297,  0.50372459,\n",
       "          0.15447038,  0.23998519,  0.67689718, -0.24145135,  0.08566755,\n",
       "          0.03267879, -0.11017929,  0.81575273, -0.44619409,  0.45387435,\n",
       "          0.5501609 ,  0.58665382,  0.53992851, -0.41773884, -0.40689001,\n",
       "         -0.60442081, -0.49196124, -1.33995912, -0.03813702, -0.51572583,\n",
       "          0.59806363,  1.13429893,  0.4139046 ,  0.07440816, -1.9474679 ,\n",
       "          0.06826279,  0.11984932, -0.5027245 ,  0.10305826, -0.1324724 ]])"
      ]
     },
     "execution_count": 82,
     "metadata": {},
     "output_type": "execute_result"
    }
   ],
   "source": [
    "svm_model.coef_.todense()"
   ]
  },
  {
   "cell_type": "markdown",
   "metadata": {
    "slideshow": {
     "slide_type": "fragment"
    }
   },
   "source": [
    "### Training Data"
   ]
  },
  {
   "cell_type": "markdown",
   "metadata": {
    "slideshow": {
     "slide_type": "fragment"
    }
   },
   "source": [
    "Step 7: Predict in the training data"
   ]
  },
  {
   "cell_type": "code",
   "execution_count": 83,
   "metadata": {
    "slideshow": {
     "slide_type": "fragment"
    }
   },
   "outputs": [
    {
     "name": "stdout",
     "output_type": "stream",
     "text": [
      "[0 0 1 1 1]\n",
      "1760    0\n",
      "749     0\n",
      "2068    1\n",
      "1989    1\n",
      "1619    1\n",
      "Name: most_least, dtype: int64\n"
     ]
    }
   ],
   "source": [
    "# predict on training\n",
    "df_predicted_train_Y = svm_model.predict(tfidf_train)\n",
    "\n",
    "print(df_predicted_train_Y[0:5])\n",
    "print(Y_train[0:5])"
   ]
  },
  {
   "cell_type": "code",
   "execution_count": 84,
   "metadata": {
    "slideshow": {
     "slide_type": "fragment"
    }
   },
   "outputs": [
    {
     "data": {
      "text/plain": [
       "1    1090\n",
       "0     985\n",
       "dtype: int64"
      ]
     },
     "execution_count": 84,
     "metadata": {},
     "output_type": "execute_result"
    }
   ],
   "source": [
    "# see how many were predicted most vs. least\n",
    "pd.Series(df_predicted_train_Y).value_counts()"
   ]
  },
  {
   "cell_type": "markdown",
   "metadata": {
    "slideshow": {
     "slide_type": "fragment"
    }
   },
   "source": [
    "### Testing Data"
   ]
  },
  {
   "cell_type": "markdown",
   "metadata": {
    "slideshow": {
     "slide_type": "-"
    }
   },
   "source": [
    "Step 8: Predict in the testing data"
   ]
  },
  {
   "cell_type": "code",
   "execution_count": 85,
   "metadata": {
    "slideshow": {
     "slide_type": "fragment"
    }
   },
   "outputs": [
    {
     "name": "stdout",
     "output_type": "stream",
     "text": [
      "[0 0 1 1 0]\n",
      "665     0\n",
      "410     0\n",
      "2686    1\n",
      "2222    1\n",
      "2609    1\n",
      "Name: most_least, dtype: int64\n"
     ]
    }
   ],
   "source": [
    "# predict on training\n",
    "df_predicted_test_Y = svm_model.predict(tfidf_test)\n",
    "print(df_predicted_test_Y[0:5])\n",
    "print(Y_test[0:5])"
   ]
  },
  {
   "cell_type": "code",
   "execution_count": 86,
   "metadata": {
    "slideshow": {
     "slide_type": "fragment"
    }
   },
   "outputs": [
    {
     "data": {
      "text/plain": [
       "1    360\n",
       "0    332\n",
       "dtype: int64"
      ]
     },
     "execution_count": 86,
     "metadata": {},
     "output_type": "execute_result"
    }
   ],
   "source": [
    "# see how many were predicted most vs. least\n",
    "pd.Series(df_predicted_test_Y).value_counts()"
   ]
  },
  {
   "cell_type": "markdown",
   "metadata": {
    "slideshow": {
     "slide_type": "slide"
    }
   },
   "source": [
    "## Accuracy Assessment\n",
    "\n",
    "- RMSE (continuous)\n",
    "- Accuracy, Sensitivity, Specificity, AUC\n",
    "    - TP, TN, FP, FN"
   ]
  },
  {
   "cell_type": "markdown",
   "metadata": {},
   "source": [
    "![confusion matrix](https://miro.medium.com/max/924/1*7EYylA6XlXSGBCF77j_rOA.png)"
   ]
  },
  {
   "cell_type": "markdown",
   "metadata": {},
   "source": [
    "![sensitivity recell](https://miro.medium.com/max/878/1*Ub0nZTXYT8MxLzrz0P7jPA.png)"
   ]
  },
  {
   "cell_type": "markdown",
   "metadata": {
    "slideshow": {
     "slide_type": "fragment"
    }
   },
   "source": [
    "**Accuracy** - What % were predicted correctly?  \n",
    "**Sensitivity (Recall)** - Of those that were positives, what % were predicted to be positive?  ; $\\frac {TP}{(TP + FN)}$  \n",
    "**Specificity** - Of those that were actually negatives, what % were predicted to be negative?  $\\frac {TN}{(TN + FP)}$"
   ]
  },
  {
   "cell_type": "markdown",
   "metadata": {
    "slideshow": {
     "slide_type": "fragment"
    }
   },
   "source": [
    "**Precision (Positive Predictive Value, PPV)** = $\\frac {TP}{(TP + FP)}$\n",
    "\n",
    "- probability that predicted positive truly is positive"
   ]
  },
  {
   "cell_type": "markdown",
   "metadata": {
    "slideshow": {
     "slide_type": "slide"
    }
   },
   "source": [
    "### Training Data"
   ]
  },
  {
   "cell_type": "markdown",
   "metadata": {
    "slideshow": {
     "slide_type": "-"
    }
   },
   "source": [
    "Step 9: Assess accuracy in training data"
   ]
  },
  {
   "cell_type": "code",
   "execution_count": 87,
   "metadata": {},
   "outputs": [
    {
     "name": "stdout",
     "output_type": "stream",
     "text": [
      "              precision    recall  f1-score   support\n",
      "\n",
      "           0       0.92      0.91      0.91       996\n",
      "           1       0.91      0.92      0.92      1079\n",
      "\n",
      "    accuracy                           0.91      2075\n",
      "   macro avg       0.91      0.91      0.91      2075\n",
      "weighted avg       0.91      0.91      0.91      2075\n",
      "\n"
     ]
    }
   ],
   "source": [
    "print(classification_report(Y_train, df_predicted_train_Y))"
   ]
  },
  {
   "cell_type": "code",
   "execution_count": 88,
   "metadata": {
    "slideshow": {
     "slide_type": "notes"
    }
   },
   "outputs": [
    {
     "data": {
      "text/plain": [
       "1    1079\n",
       "0     996\n",
       "Name: most_least, dtype: int64"
      ]
     },
     "execution_count": 88,
     "metadata": {},
     "output_type": "execute_result"
    }
   ],
   "source": [
    "# where 'support' comes from\n",
    "pd.Series(Y_train).value_counts()"
   ]
  },
  {
   "cell_type": "code",
   "execution_count": 89,
   "metadata": {},
   "outputs": [
    {
     "data": {
      "image/png": "[encoded data removed]",
      "text/plain": [
       "<Figure size 640x480 with 2 Axes>"
      ]
     },
     "metadata": {},
     "output_type": "display_data"
    }
   ],
   "source": [
    "cm = confusion_matrix(Y_train, df_predicted_train_Y)\n",
    "disp = ConfusionMatrixDisplay(cm)\n",
    "disp.plot();\n"
   ]
  },
  {
   "cell_type": "markdown",
   "metadata": {
    "slideshow": {
     "slide_type": "fragment"
    }
   },
   "source": [
    "**support** - the number of occurrences of each class  \n",
    "**precision (PPV)** - ability of the classifier not to label a positive sample as negative  \n",
    "**recall (sensitivity)** - ability of the classifer to find all the positive samples\n"
   ]
  },
  {
   "cell_type": "markdown",
   "metadata": {
    "slideshow": {
     "slide_type": "fragment"
    }
   },
   "source": [
    "**f1-score** - weighted harmonic mean of the precision and recall; score reaches its best value at 1 and worst score at 0  \n",
    "**macro average** - averaging the unweighted mean per label  \n",
    "**weighted average** - averaging the support-weighted mean per label  \n",
    "**micro average** - averaging the total true positives, false negatives and false positives"
   ]
  },
  {
   "cell_type": "markdown",
   "metadata": {
    "slideshow": {
     "slide_type": "slide"
    }
   },
   "source": [
    "### Testing Data"
   ]
  },
  {
   "cell_type": "markdown",
   "metadata": {
    "slideshow": {
     "slide_type": "-"
    }
   },
   "source": [
    "Step 10 or 11: Assess accuracy in testing data"
   ]
  },
  {
   "cell_type": "code",
   "execution_count": 90,
   "metadata": {},
   "outputs": [
    {
     "name": "stdout",
     "output_type": "stream",
     "text": [
      "              precision    recall  f1-score   support\n",
      "\n",
      "           0       0.84      0.88      0.86       320\n",
      "           1       0.89      0.86      0.87       372\n",
      "\n",
      "    accuracy                           0.87       692\n",
      "   macro avg       0.87      0.87      0.87       692\n",
      "weighted avg       0.87      0.87      0.87       692\n",
      "\n"
     ]
    }
   ],
   "source": [
    "print(classification_report(Y_test, df_predicted_test_Y))"
   ]
  },
  {
   "cell_type": "code",
   "execution_count": 91,
   "metadata": {},
   "outputs": [
    {
     "data": {
      "image/png": "[encoded data removed]",
      "text/plain": [
       "<Figure size 640x480 with 2 Axes>"
      ]
     },
     "metadata": {},
     "output_type": "display_data"
    }
   ],
   "source": [
    "cm = confusion_matrix(Y_test, df_predicted_test_Y)\n",
    "disp = ConfusionMatrixDisplay(cm)\n",
    "disp.plot();"
   ]
  },
  {
   "cell_type": "markdown",
   "metadata": {
    "slideshow": {
     "slide_type": "fragment"
    }
   },
   "source": [
    "#### Clicker Question #4\n",
    "\n",
    "Given this output, would you use this model to predict whether or not text was something someone liked or disliked about COGS 108?\n",
    "\n",
    "- A) Yes\n",
    "- B) No\n",
    "- C) Unsure"
   ]
  },
  {
   "cell_type": "markdown",
   "metadata": {
    "slideshow": {
     "slide_type": "slide"
    }
   },
   "source": [
    "### Doing model selection with the validation data"
   ]
  },
  {
   "cell_type": "markdown",
   "metadata": {
    "slideshow": {
     "slide_type": "-"
    }
   },
   "source": [
    "Actually, usually BEFORE you test, you'll want to play with hyperparameters in validation to get the best result.  Fine tuning your model.\n",
    "\n",
    "\n",
    "So consider this an optional step, that usually comes before test if your model has a set of knobs and dials to twiddle.  \n",
    "\n",
    "We only did test first above to build some intuition for you."
   ]
  },
  {
   "cell_type": "code",
   "execution_count": 112,
   "metadata": {
    "slideshow": {
     "slide_type": "fragment"
    }
   },
   "outputs": [
    {
     "name": "stdout",
     "output_type": "stream",
     "text": [
      "              precision    recall  f1-score   support\n",
      "\n",
      "           0       0.81      0.82      0.82       338\n",
      "           1       0.83      0.82      0.82       354\n",
      "\n",
      "    accuracy                           0.82       692\n",
      "   macro avg       0.82      0.82      0.82       692\n",
      "weighted avg       0.82      0.82      0.82       692\n",
      "\n"
     ]
    },
    {
     "data": {
      "image/png": "[encoded data removed]",
      "text/plain": [
       "<Figure size 640x480 with 2 Axes>"
      ]
     },
     "metadata": {},
     "output_type": "display_data"
    }
   ],
   "source": [
    "# play with the parameter C until it looks good\n",
    "svm_model = SVC(kernel='linear', C=1E2)\n",
    "svm_model.fit(tfidf_train, Y_train)\n",
    "df_predicted_validation_Y = svm_model.predict(tfidf_valid)\n",
    "\n",
    "# assess accuracy\n",
    "cm = confusion_matrix(Y_valid, df_predicted_validation_Y)\n",
    "disp = ConfusionMatrixDisplay(cm)\n",
    "disp.plot();\n",
    "\n",
    "print(classification_report(Y_valid, df_predicted_validation_Y))"
   ]
  },
  {
   "cell_type": "code",
   "execution_count": 111,
   "metadata": {},
   "outputs": [
    {
     "name": "stdout",
     "output_type": "stream",
     "text": [
      "              precision    recall  f1-score   support\n",
      "\n",
      "           0       0.83      0.85      0.84       320\n",
      "           1       0.87      0.85      0.86       372\n",
      "\n",
      "    accuracy                           0.85       692\n",
      "   macro avg       0.85      0.85      0.85       692\n",
      "weighted avg       0.85      0.85      0.85       692\n",
      "\n"
     ]
    },
    {
     "data": {
      "image/png": "[encoded data removed]",
      "text/plain": [
       "<Figure size 640x480 with 2 Axes>"
      ]
     },
     "metadata": {},
     "output_type": "display_data"
    }
   ],
   "source": [
    "#assuming we left the cell above with our BEST model setting\n",
    "# lets refit it with all of train+valid sets\n",
    "svm_model.fit(np.concatenate([tfidf_train.todense(), tfidf_valid.todense()]), \n",
    "              np.concatenate([Y_train, Y_valid]))\n",
    "\n",
    "# get test set predictions\n",
    "df_predicted_test_Y = svm_model.predict(tfidf_test.todense())\n",
    "\n",
    "print(classification_report(Y_test, df_predicted_test_Y))\n",
    "\n",
    "cm = confusion_matrix(Y_test, df_predicted_test_Y)\n",
    "disp = ConfusionMatrixDisplay(cm)\n",
    "disp.plot();"
   ]
  },
  {
   "cell_type": "markdown",
   "metadata": {
    "slideshow": {
     "slide_type": "slide"
    }
   },
   "source": [
    "### Summary"
   ]
  },
  {
   "cell_type": "markdown",
   "metadata": {},
   "source": [
    "1. 80:20 Partition\n",
    "2. Specified TF-IDF as predictor and most/least (0,1) as outcome\n",
    "3. Trained SVM linear classifier\n",
    "4. Built model on Training data\n",
    "5. Predicted in training data and on testing data\n",
    "6. Assessed overall accuracy"
   ]
  },
  {
   "cell_type": "markdown",
   "metadata": {
    "slideshow": {
     "slide_type": "slide"
    }
   },
   "source": [
    "### Approaches For Improvement?\n",
    "\n",
    "- Data Cleaning/Stemming\n",
    "- Different Tuning Parameters?\n",
    "- Cross-Validation?\n",
    "- Train/Test on all data OR Train only Sp20/Fa20/Wi21 (remote quarters)\n",
    "- Different Model?\n",
    "\n",
    "To start with use sklearn the EASY way... don't try to hand code things like Train-Test split or K-Fold cross-validation... read the docs and learn how to use these wonderful functions https://scikit-learn.org/stable/modules/classes.html#module-sklearn.model_selection"
   ]
  },
  {
   "cell_type": "code",
   "execution_count": 58,
   "metadata": {},
   "outputs": [
    {
     "data": {
      "text/plain": [
       "0.8884008236101579"
      ]
     },
     "execution_count": 58,
     "metadata": {},
     "output_type": "execute_result"
    }
   ],
   "source": [
    "from sklearn.model_selection import cross_validate\n",
    "results = cross_validate(svm_model, \n",
    "                         X=tfidf_validation_X, \n",
    "                         y=tfidf_validation_Y, \n",
    "                         cv=5) \n",
    "import numpy as np\n",
    "np.mean(results['test_score'])"
   ]
  },
  {
   "cell_type": "code",
   "execution_count": 59,
   "metadata": {},
   "outputs": [
    {
     "data": {
      "text/plain": [
       "GridSearchCV(cv=5, estimator=SVC(kernel='linear'),\n",
       "             param_grid={'C': [0.0001, 0.001, 0.01, 0.1, 1, 10, 100, 1000]})"
      ]
     },
     "execution_count": 59,
     "metadata": {},
     "output_type": "execute_result"
    }
   ],
   "source": [
    "from sklearn.model_selection import GridSearchCV\n",
    "results = GridSearchCV(svm_model, \n",
    "                       param_grid={'C':[0.0001, 0.001, 0.01, 0.1, 1, 10, 100, 1000]},\n",
    "                       cv=5)\n",
    "results.fit(tfidf_validation_X,tfidf_validation_Y)\n",
    "results"
   ]
  },
  {
   "cell_type": "code",
   "execution_count": 60,
   "metadata": {},
   "outputs": [
    {
     "data": {
      "text/plain": [
       "{'C': [0.0001, 0.001, 0.01, 0.1, 1, 10, 100, 1000]}"
      ]
     },
     "execution_count": 60,
     "metadata": {},
     "output_type": "execute_result"
    }
   ],
   "source": [
    "results.param_grid\n"
   ]
  },
  {
   "cell_type": "code",
   "execution_count": 61,
   "metadata": {},
   "outputs": [
    {
     "data": {
      "text/plain": [
       "{'mean_fit_time': array([0.01956401, 0.01957636, 0.01695561, 0.0152422 , 0.01232519,\n",
       "        0.01478763, 0.0137537 , 0.01464758]),\n",
       " 'std_fit_time': array([0.00147658, 0.00198378, 0.00194494, 0.00083107, 0.0014021 ,\n",
       "        0.00115666, 0.00216205, 0.00197136]),\n",
       " 'mean_score_time': array([0.00471377, 0.00468984, 0.00416455, 0.00407996, 0.00278006,\n",
       "        0.00217876, 0.00230823, 0.00278711]),\n",
       " 'std_score_time': array([0.00059533, 0.00088822, 0.00060906, 0.00059829, 0.00020963,\n",
       "        0.00025523, 0.00038785, 0.00043398]),\n",
       " 'param_C': masked_array(data=[0.0001, 0.001, 0.01, 0.1, 1, 10, 100, 1000],\n",
       "              mask=[False, False, False, False, False, False, False, False],\n",
       "        fill_value='?',\n",
       "             dtype=object),\n",
       " 'params': [{'C': 0.0001},\n",
       "  {'C': 0.001},\n",
       "  {'C': 0.01},\n",
       "  {'C': 0.1},\n",
       "  {'C': 1},\n",
       "  {'C': 10},\n",
       "  {'C': 100},\n",
       "  {'C': 1000}],\n",
       " 'split0_test_score': array([0.5106383 , 0.5106383 , 0.5106383 , 0.88297872, 0.89361702,\n",
       "        0.90425532, 0.90425532, 0.90425532]),\n",
       " 'split1_test_score': array([0.50537634, 0.50537634, 0.50537634, 0.79569892, 0.89247312,\n",
       "        0.84946237, 0.82795699, 0.82795699]),\n",
       " 'split2_test_score': array([0.50537634, 0.50537634, 0.50537634, 0.83870968, 0.88172043,\n",
       "        0.91397849, 0.91397849, 0.91397849]),\n",
       " 'split3_test_score': array([0.50537634, 0.50537634, 0.50537634, 0.88172043, 0.87096774,\n",
       "        0.82795699, 0.79569892, 0.79569892]),\n",
       " 'split4_test_score': array([0.51612903, 0.51612903, 0.51612903, 0.89247312, 0.90322581,\n",
       "        0.82795699, 0.80645161, 0.80645161]),\n",
       " 'mean_test_score': array([0.50857927, 0.50857927, 0.50857927, 0.85831617, 0.88840082,\n",
       "        0.86472203, 0.84966827, 0.84966827]),\n",
       " 'std_test_score': array([0.00428987, 0.00428987, 0.00428987, 0.03640888, 0.01106447,\n",
       "        0.03721632, 0.04973389, 0.04973389]),\n",
       " 'rank_test_score': array([6, 6, 6, 3, 1, 2, 4, 4], dtype=int32)}"
      ]
     },
     "execution_count": 61,
     "metadata": {},
     "output_type": "execute_result"
    }
   ],
   "source": [
    "results.cv_results_"
   ]
  },
  {
   "cell_type": "code",
   "execution_count": 62,
   "metadata": {},
   "outputs": [
    {
     "data": {
      "text/plain": [
       "({'C': 1}, 0.8884008236101579)"
      ]
     },
     "execution_count": 62,
     "metadata": {},
     "output_type": "execute_result"
    }
   ],
   "source": [
    "results.best_params_, results.best_score_"
   ]
  },
  {
   "cell_type": "markdown",
   "metadata": {},
   "source": [
    "## Feature engineering\n",
    "One thing we didn't talk about is how you need to engineer features for NON-text kinds of inputs\n",
    "\n",
    "In general this is a huge topic that I will try condense for you into two bullet points.\n",
    "\n",
    "- If your data has different kinds of continuous variables, and especially if some of those variables tend to be big numbers (distance to the moon in meters) and some tend to be small numbers (the earths mass as a fraction of the earth's mass), then you need to STANDARDIZE those two variables to have roughly the same magnitude. If you don't then the ML system may think that the large magnitude variable is more predictive than the small magnitude variable.  See this link https://scikit-learn.org/stable/modules/preprocessing.html#preprocessing-scaler\n",
    "- If your data has categorical variables that do not have a natural order to them (red is not greater than blue), then you need to ONE-HOT encode those categorical variables.  Otherwise your ML system will think that red is greater than blue and that can make for some bad predictions.  See this link https://scikit-learn.org/stable/modules/preprocessing.html#preprocessing-categorical-features"
   ]
  },
  {
   "cell_type": "code",
   "execution_count": null,
   "metadata": {},
   "outputs": [],
   "source": []
  }
 ],
 "metadata": {
  "celltoolbar": "Slideshow",
  "kernelspec": {
   "display_name": "Python 3 (ipykernel)",
   "language": "python",
   "name": "python3"
  },
  "language_info": {
   "codemirror_mode": {
    "name": "ipython",
    "version": 3
   },
   "file_extension": ".py",
   "mimetype": "text/x-python",
   "name": "python",
   "nbconvert_exporter": "python",
   "pygments_lexer": "ipython3",
   "version": "3.8.8"
  },
  "rise": {
   "scroll": true
  }
 },
 "nbformat": 4,
 "nbformat_minor": 2
}
